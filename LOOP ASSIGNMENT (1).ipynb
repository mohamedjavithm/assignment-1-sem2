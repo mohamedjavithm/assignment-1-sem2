{
 "cells": [
  {
   "cell_type": "code",
   "execution_count": null,
   "id": "a99be036",
   "metadata": {},
   "outputs": [
    {
     "name": "stdout",
     "output_type": "stream",
     "text": [
      "Enter the number of students: 30\n",
      "Enter the number of subjects: 5\n",
      "Enter name for student 1: javith\n",
      "Enter marks for javith in subject 1: 600\n",
      "Enter marks for javith in subject 2: 500\n",
      "Enter marks for javith in subject 3: 470\n",
      "Enter marks for javith in subject 4: 150\n",
      "Enter marks for javith in subject 5: 450\n"
     ]
    }
   ],
   "source": [
    "al Marks']}\")\n",
    "    print(f\"Grade: {data['Grade']}\")def calculate_total_marks(subject_marks):\n",
    "    return sum(subject_marks)\n",
    "\n",
    "def calculate_grade(total_marks):\n",
    "    if total_marks >= 600:\n",
    "        return 'O'\n",
    "    elif total_marks >= 540:\n",
    "        return 'A'\n",
    "    elif total_marks >= 470:\n",
    "        return 'B'\n",
    "    elif total_marks >= 150:\n",
    "        return 'C'\n",
    "    else:\n",
    "        return 'D'\n",
    "\n",
    "num_students = int(input(\"Enter the number of students: \"))\n",
    "num_subjects = int(input(\"Enter the number of subjects: \"))\n",
    "\n",
    "\n",
    "\n",
    "student_data = {}\n",
    "\n",
    "for i in range(1, num_students + 1):\n",
    "    student_name = input(f\"Enter name for student {i}: \")\n",
    "    \n",
    "    \n",
    "    subject_marks = []\n",
    "    \n",
    "    \n",
    "    for j in range(1, num_subjects + 1):\n",
    "        mark = float(input(f\"Enter marks for {student_name} in subject {j}: \"))\n",
    "        subject_marks.append(mark)\n",
    "    \n",
    "    \n",
    "    total_marks = calculate_total_marks(subject_marks)\n",
    "    grade = calculate_grade(total_marks)\n",
    "    \n",
    "   \n",
    "    student_data[student_name] = {'Total Marks': total_marks, 'Grade': grade}\n",
    "\n",
    "\n",
    "for student_name, data in student_data.items():\n",
    "    print(f\"\\nStudent: {student_name}\")\n",
    "    print(f\"Total Marks: {data['Tot"
   ]
  },
  {
   "cell_type": "code",
   "execution_count": null,
   "id": "01516f3d",
   "metadata": {},
   "outputs": [],
   "source": []
  }
 ],
 "metadata": {
  "kernelspec": {
   "display_name": "Python 3 (ipykernel)",
   "language": "python",
   "name": "python3"
  },
  "language_info": {
   "codemirror_mode": {
    "name": "ipython",
    "version": 3
   },
   "file_extension": ".py",
   "mimetype": "text/x-python",
   "name": "python",
   "nbconvert_exporter": "python",
   "pygments_lexer": "ipython3",
   "version": "3.9.13"
  }
 },
 "nbformat": 4,
 "nbformat_minor": 5
}
